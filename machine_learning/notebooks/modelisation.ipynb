{
 "cells": [
  {
   "cell_type": "code",
   "execution_count": 17,
   "metadata": {},
   "outputs": [],
   "source": [
    "import pandas as pd\n",
    "from sklearn.ensemble import RandomForestClassifier\n",
    "from sklearn.model_selection import train_test_split\n",
    "from sklearn.metrics import accuracy_score\n",
    "from sklearn.metrics import accuracy_score, precision_score, recall_score, f1_score, roc_auc_score, confusion_matrix\n",
    "\n",
    "\n",
    "data = pd.read_csv('../data/processed/clean_dataset_.csv')\n",
    "components = pd.read_csv('../data/processed/principalComponents_.csv')\n",
    "\n",
    "X = components\n",
    "y = data['Fire Alarm']\n",
    "\n",
    "X_train, X_test, y_train, y_test = train_test_split(X, y, test_size=0.2, random_state=42)\n",
    "\n",
    "\n",
    "\n",
    "def evaluer_modele(y_test, y_pred, y_pred_proba):\n",
    "    \"\"\"\n",
    "    Calcule et affiche les principales métriques d'évaluation d'un modèle de classification.\n",
    "\n",
    "    Args:\n",
    "        y_test (array-like): Les vraies étiquettes.\n",
    "        y_pred (array-like): Les étiquettes prédites par le modèle.\n",
    "        y_pred_proba (array-like): Les probabilités prédites pour la classe positive.\n",
    "    \"\"\"\n",
    "\n",
    "    # Calcul des métriques\n",
    "    accuracy = accuracy_score(y_test, y_pred)\n",
    "    precision = precision_score(y_test, y_pred)\n",
    "    recall = recall_score(y_test, y_pred)\n",
    "    f1 = f1_score(y_test, y_pred)\n",
    "    roc_auc = roc_auc_score(y_test, y_pred_proba)\n",
    "    conf_matrix = confusion_matrix(y_test, y_pred)\n",
    "\n",
    "    # Création du DataFrame pour afficher les résultats\n",
    "    data = {'Métrique': ['Accuracy', 'Precision', 'Recall', 'F1-score', 'AUC', 'Matrice de confusion'],\n",
    "            'Valeur': [accuracy, precision, recall, f1, roc_auc, conf_matrix]}\n",
    "    df = pd.DataFrame(data)\n",
    "\n",
    "    print(df)\n",
    "\n",
    "\n",
    "#Réseau de neurone\n",
    "#regression linéaire\n",
    "#XGBoost\n"
   ]
  },
  {
   "cell_type": "code",
   "execution_count": 18,
   "metadata": {},
   "outputs": [
    {
     "name": "stdout",
     "output_type": "stream",
     "text": [
      "               Métrique                  Valeur\n",
      "0              Accuracy                0.999655\n",
      "1             Precision                     1.0\n",
      "2                Recall                0.999511\n",
      "3              F1-score                0.999756\n",
      "4                   AUC                0.999732\n",
      "5  Matrice de confusion  [[2552, 0], [3, 6138]]\n"
     ]
    }
   ],
   "source": [
    "#---------------------------------   Random Forest  -------------------------------------------------------\n",
    "# Créer un modèle de forêt aléatoire\n",
    "model1 = RandomForestClassifier(n_estimators=100, random_state=42)\n",
    "\n",
    "# Entraîner le modèle\n",
    "model1.fit(X_train, y_train)\n",
    "\n",
    "# Faire des prédictions   \n",
    "y_pred = model1.predict(X_test)\n",
    "\n",
    "# Obtenir les probabilités prédites\n",
    "y_pred_proba = model1.predict_proba(X_test)[:, 1] \n",
    "\n",
    "\n",
    "evaluer_modele(y_test, y_pred, y_pred_proba)"
   ]
  },
  {
   "cell_type": "code",
   "execution_count": null,
   "metadata": {},
   "outputs": [],
   "source": []
  },
  {
   "cell_type": "code",
   "execution_count": 22,
   "metadata": {},
   "outputs": [
    {
     "name": "stdout",
     "output_type": "stream",
     "text": [
      "               Métrique                  Valeur\n",
      "0              Accuracy                0.999655\n",
      "1             Precision                     1.0\n",
      "2                Recall                0.999511\n",
      "3              F1-score                0.999756\n",
      "4                   AUC                0.999732\n",
      "5  Matrice de confusion  [[2552, 0], [3, 6138]]\n"
     ]
    }
   ],
   "source": [
    "from xgboost import XGBClassifier\n",
    "from sklearn.model_selection import train_test_split\n",
    "from sklearn.metrics import accuracy_score\n",
    "\n",
    "# Diviser les données en ensembles d'entraînement et de test\n",
    "X_train, X_test, y_train, y_test = train_test_split(X, y, test_size=0.2, random_state=42)\n",
    "\n",
    "# Créer un modèle XGBoost\n",
    "model = XGBClassifier()\n",
    "\n",
    "# Entraîner le modèle\n",
    "model.fit(X_train, y_train)\n",
    "\n",
    "# Faire des prédictions\n",
    "y_pred2 = model.predict(X_test)\n",
    "\n",
    "# Obtenir les probabilités prédites\n",
    "y_pred_proba2 = model1.predict_proba(X_test)[:, 1] \n",
    "\n",
    "\n",
    "evaluer_modele(y_test, y_pred2, y_pred_proba2)"
   ]
  },
  {
   "cell_type": "code",
   "execution_count": 24,
   "metadata": {},
   "outputs": [
    {
     "name": "stdout",
     "output_type": "stream",
     "text": [
      "               Métrique                  Valeur\n",
      "0              Accuracy                0.999655\n",
      "1             Precision                     1.0\n",
      "2                Recall                0.999511\n",
      "3              F1-score                0.999756\n",
      "4                   AUC                0.999732\n",
      "5  Matrice de confusion  [[2552, 0], [3, 6138]]\n",
      "Mean Squared Error: 0.00034510525710341653\n"
     ]
    }
   ],
   "source": [
    "from sklearn.linear_model import LinearRegression\n",
    "from sklearn.model_selection import train_test_split\n",
    "from sklearn.metrics import mean_squared_error\n",
    "\n",
    "\n",
    "\n",
    "# Diviser les données en ensembles d'entraînement et de test\n",
    "X_train, X_test, y_train, y_test = train_test_split(X, y, test_size=0.2, random_state=42)\n",
    "\n",
    "# Créer un modèle de régression linéaire\n",
    "model = LinearRegression()\n",
    "\n",
    "# Entraîner le modèle\n",
    "model.fit(X_train, y_train)\n",
    "\n",
    "# Faire des prédictions\n",
    "y_pred3 = model.predict(X_test)\n",
    "\n",
    "# Obtenir les probabilités prédites\n",
    "y_pred_proba2 = model1.predict_proba(X_test)[:, 1] \n",
    "\n",
    "\n",
    "evaluer_modele(y_test, y_pred2, y_pred_proba2)\n",
    "\n",
    "# Évaluer le modèle\n",
    "mse = mean_squared_error(y_test, y_pred)\n",
    "print(\"Mean Squared Error:\", mse)"
   ]
  }
 ],
 "metadata": {
  "kernelspec": {
   "display_name": "Python 3",
   "language": "python",
   "name": "python3"
  },
  "language_info": {
   "codemirror_mode": {
    "name": "ipython",
    "version": 3
   },
   "file_extension": ".py",
   "mimetype": "text/x-python",
   "name": "python",
   "nbconvert_exporter": "python",
   "pygments_lexer": "ipython3",
   "version": "3.12.6"
  }
 },
 "nbformat": 4,
 "nbformat_minor": 2
}
