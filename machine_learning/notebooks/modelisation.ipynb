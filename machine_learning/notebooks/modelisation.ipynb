{
 "cells": [
  {
   "cell_type": "code",
   "execution_count": 1,
   "metadata": {},
   "outputs": [
    {
     "name": "stderr",
     "output_type": "stream",
     "text": [
      "/usr/lib/python3/dist-packages/pytz/__init__.py:30: SyntaxWarning: invalid escape sequence '\\s'\n",
      "  match = re.match(\"^#\\s*version\\s*([0-9a-z]*)\\s*$\", line)\n"
     ]
    }
   ],
   "source": [
    "import pandas as pd\n",
    "import joblib\n",
    "from sklearn.ensemble import RandomForestClassifier\n",
    "from sklearn.model_selection import train_test_split\n",
    "from sklearn.metrics import accuracy_score\n",
    "from sklearn.metrics import accuracy_score, precision_score, recall_score, f1_score, roc_auc_score, confusion_matrix\n",
    "\n",
    "#Xgboost\n",
    "#random forest\n",
    "#Reseau de neurone\n",
    "#Linear regression*\n",
    "\n",
    "data = pd.read_csv('../data/processed/clean_dataset_.csv')\n",
    "components = pd.read_csv('../data/processed/principalComponents_.csv')\n",
    "\n",
    "X = components #composantes principales obtenu après l'ACP\n",
    "y = data['Fire Alarm'] #variable cible\n",
    "\n",
    "X_train, X_test, y_train, y_test = train_test_split(X, y, test_size=0.2, random_state=42)\n",
    "\n",
    "\n",
    "#fonction qui permet d'évaluer chaque modèle\n",
    "def evaluer_modele(y_test, y_pred, y_pred_proba):\n",
    "    \"\"\"\n",
    "    Calcule et affiche les principales métriques d'évaluation d'un modèle de classification.\n",
    "    Args:\n",
    "        y_test (array-like): Les vraies étiquettes.\n",
    "        y_pred (array-like): Les étiquettes prédites par le modèle.\n",
    "        y_pred_proba (array-like): Les probabilités prédites pour la classe positive.\n",
    "    \"\"\"\n",
    "\n",
    "    # Calcul des métriques\n",
    "    accuracy = accuracy_score(y_test, y_pred)\n",
    "    precision = precision_score(y_test, y_pred)\n",
    "    recall = recall_score(y_test, y_pred)\n",
    "    f1 = f1_score(y_test, y_pred)\n",
    "    roc_auc = roc_auc_score(y_test, y_pred_proba)\n",
    "    conf_matrix = confusion_matrix(y_test, y_pred)\n",
    "\n",
    "    # Création du DataFrame pour afficher les résultats\n",
    "    data = {'Métrique': ['Accuracy', 'Precision', 'Recall', 'F1-score', 'AUC', 'Matrice de confusion'],\n",
    "            'Valeur': [accuracy, precision, recall, f1, roc_auc, conf_matrix]}\n",
    "    df = pd.DataFrame(data)\n",
    "\n",
    "    print(df)\n",
    "\n",
    "\n"
   ]
  },
  {
   "cell_type": "code",
   "execution_count": 4,
   "metadata": {},
   "outputs": [
    {
     "name": "stdout",
     "output_type": "stream",
     "text": [
      "               Métrique                  Valeur\n",
      "0              Accuracy                     1.0\n",
      "1             Precision                     1.0\n",
      "2                Recall                     1.0\n",
      "3              F1-score                     1.0\n",
      "4                   AUC                     1.0\n",
      "5  Matrice de confusion  [[2128, 0], [0, 5856]]\n"
     ]
    }
   ],
   "source": [
    "#---------------------------------   Random Forest  -------------------------------------------------------\n",
    "# Créer un modèle de forêt aléatoire\n",
    "model1 = RandomForestClassifier(n_estimators=100, random_state=42)\n",
    "\n",
    "# Entraîner le modèle\n",
    "model1.fit(X_train, y_train)\n",
    "\n",
    "# Faire des prédictions   \n",
    "y_pred1 = model1.predict(X_test)\n",
    "\n",
    "# Obtenir les probabilités prédites\n",
    "y_pred_proba1 = model1.predict_proba(X_test)[:, 1]\n",
    "joblib.dump(model1, '../models/randomForest.joblib') \n",
    "\n",
    "\n",
    "evaluer_modele(y_test, y_pred1, y_pred_proba1)\n"
   ]
  },
  {
   "cell_type": "code",
   "execution_count": 5,
   "metadata": {},
   "outputs": [],
   "source": [
    "#Réseau de neurone\n",
    "\n",
    "\n"
   ]
  },
  {
   "cell_type": "code",
   "execution_count": 5,
   "metadata": {},
   "outputs": [
    {
     "name": "stdout",
     "output_type": "stream",
     "text": [
      "               Métrique                  Valeur\n",
      "0              Accuracy                     1.0\n",
      "1             Precision                     1.0\n",
      "2                Recall                     1.0\n",
      "3              F1-score                     1.0\n",
      "4                   AUC                     1.0\n",
      "5  Matrice de confusion  [[2128, 0], [0, 5856]]\n"
     ]
    },
    {
     "data": {
      "text/plain": [
       "['../models/xgboost.joblib']"
      ]
     },
     "execution_count": 5,
     "metadata": {},
     "output_type": "execute_result"
    }
   ],
   "source": [
    "#XGBoost\n",
    "\n",
    "from xgboost import XGBClassifier\n",
    "from sklearn.model_selection import train_test_split\n",
    "from sklearn.metrics import accuracy_score\n",
    "\n",
    "# Diviser les données en ensembles d'entraînement et de test\n",
    "X_train, X_test, y_train, y_test = train_test_split(X, y, test_size=0.2, random_state=42)\n",
    "\n",
    "# Créer un modèle XGBoost\n",
    "model2 = XGBClassifier()\n",
    "\n",
    "# Entraîner le modèle\n",
    "model2.fit(X_train, y_train)\n",
    "\n",
    "# Faire des prédictions\n",
    "y_pred2 = model2.predict(X_test)\n",
    "\n",
    "# Obtenir les probabilités prédites\n",
    "y_pred_proba2 = model2.predict_proba(X_test)[:, 1] \n",
    "\n",
    "evaluer_modele(y_test, y_pred2, y_pred_proba2)\n",
    "joblib.dump(model2, '../models/xgboost.joblib')\n"
   ]
  },
  {
   "cell_type": "code",
   "execution_count": 6,
   "metadata": {},
   "outputs": [
    {
     "name": "stdout",
     "output_type": "stream",
     "text": [
      "Mean Squared Error: 0.04054753650764928\n"
     ]
    },
    {
     "data": {
      "text/plain": [
       "['../models/regressionLineaire.joblib']"
      ]
     },
     "execution_count": 6,
     "metadata": {},
     "output_type": "execute_result"
    }
   ],
   "source": [
    "#Regression Linéaire\n",
    "\n",
    "from sklearn.linear_model import LinearRegression\n",
    "from sklearn.model_selection import train_test_split\n",
    "from sklearn.metrics import mean_squared_error\n",
    "\n",
    "# Diviser les données en ensembles d'entraînement et de test\n",
    "X_train, X_test, y_train, y_test = train_test_split(X, y, test_size=0.2, random_state=42)\n",
    "\n",
    "# Créer un modèle de régression linéaire\n",
    "model3 = LinearRegression()\n",
    "\n",
    "# Entraîner le modèle\n",
    "model3.fit(X_train, y_train)\n",
    "\n",
    "# Faire des prédictions\n",
    "y_pred3 = model3.predict(X_test)\n",
    "\n",
    "\n",
    "# Évaluer le modèle\n",
    "mse = mean_squared_error(y_test, y_pred3)\n",
    "print(\"Mean Squared Error:\", mse)\n",
    "joblib.dump(model3, '../models/regressionLineaire.joblib')\n"
   ]
  }
 ],
 "metadata": {
  "kernelspec": {
   "display_name": "Python 3",
   "language": "python",
   "name": "python3"
  },
  "language_info": {
   "codemirror_mode": {
    "name": "ipython",
    "version": 3
   },
   "file_extension": ".py",
   "mimetype": "text/x-python",
   "name": "python",
   "nbconvert_exporter": "python",
   "pygments_lexer": "ipython3",
   "version": "3.12.6"
  }
 },
 "nbformat": 4,
 "nbformat_minor": 2
}
