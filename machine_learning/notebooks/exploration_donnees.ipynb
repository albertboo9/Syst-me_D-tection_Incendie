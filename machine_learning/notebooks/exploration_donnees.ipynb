{
 "cells": [
  {
   "cell_type": "code",
   "execution_count": 4,
   "metadata": {},
   "outputs": [
    {
     "name": "stdout",
     "output_type": "stream",
     "text": [
      "          UTC  Temperature[C]  Humidity[%]  TVOC[ppb]  eCO2[ppm]  Raw H2  \\\n",
      "0  1655127646          15.127        42.98        199        426   12775   \n",
      "1  1654734418          27.107        54.80          0        400   13058   \n",
      "2  1654714047          26.370        45.80        144        409   12784   \n",
      "3  1654715196          25.980        48.42        180        431   12771   \n",
      "4  1655125243          -1.197        41.36         76        400   12791   \n",
      "\n",
      "   Raw Ethanol  Pressure[hPa]  PM1.0  PM2.5  NC0.5  NC1.0  NC2.5   CNT  \\\n",
      "0        20524        937.420   1.55   1.61  10.66  1.663  0.038  3338   \n",
      "1        19961        939.799   0.21   0.22   1.46  0.228  0.005  1087   \n",
      "2        20580        937.376   1.97   2.05  13.59  2.118  0.048  1860   \n",
      "3        20537        937.333   1.93   2.01  13.31  2.075  0.047  3009   \n",
      "4        20673        937.556   1.90   1.97  13.08  2.040  0.046   935   \n",
      "\n",
      "   Fire Alarm  \n",
      "0           0  \n",
      "1           0  \n",
      "2           0  \n",
      "3           0  \n",
      "4           0  \n",
      "<class 'pandas.core.frame.DataFrame'>\n",
      "RangeIndex: 5000 entries, 0 to 4999\n",
      "Data columns (total 15 columns):\n",
      " #   Column          Non-Null Count  Dtype  \n",
      "---  ------          --------------  -----  \n",
      " 0   UTC             5000 non-null   int64  \n",
      " 1   Temperature[C]  5000 non-null   float64\n",
      " 2   Humidity[%]     5000 non-null   float64\n",
      " 3   TVOC[ppb]       5000 non-null   int64  \n",
      " 4   eCO2[ppm]       5000 non-null   int64  \n",
      " 5   Raw H2          5000 non-null   int64  \n",
      " 6   Raw Ethanol     5000 non-null   int64  \n",
      " 7   Pressure[hPa]   5000 non-null   float64\n",
      " 8   PM1.0           5000 non-null   float64\n",
      " 9   PM2.5           5000 non-null   float64\n",
      " 10  NC0.5           5000 non-null   float64\n",
      " 11  NC1.0           5000 non-null   float64\n",
      " 12  NC2.5           5000 non-null   float64\n",
      " 13  CNT             5000 non-null   int64  \n",
      " 14  Fire Alarm      5000 non-null   int64  \n",
      "dtypes: float64(8), int64(7)\n",
      "memory usage: 586.1 KB\n",
      "None\n",
      "                UTC  Temperature[C]  Humidity[%]     TVOC[ppb]     eCO2[ppm]  \\\n",
      "count  5.000000e+03     5000.000000  5000.000000   5000.000000   5000.000000   \n",
      "mean   1.654833e+09       18.110401    45.203978   3341.520800    812.972400   \n",
      "std    1.625074e+05       14.718275    11.061795  11848.775732   2439.687295   \n",
      "min    1.654712e+09      -22.010000    10.800000      0.000000    400.000000   \n",
      "25%    1.654734e+09       12.716750    42.605000     39.000000    400.000000   \n",
      "50%    1.654761e+09       20.290000    47.910000    139.000000    400.000000   \n",
      "75%    1.654785e+09       26.400000    52.100000   1096.000000    424.000000   \n",
      "max    1.655130e+09       59.930000    74.890000  60000.000000  39059.000000   \n",
      "\n",
      "             Raw H2   Raw Ethanol  Pressure[hPa]         PM1.0         PM2.5  \\\n",
      "count   5000.000000   5000.000000    5000.000000   5000.000000   5000.000000   \n",
      "mean   12920.941000  19976.363200     938.301047    195.359246    343.405334   \n",
      "std      368.618844    832.156974       1.347339   1269.759378   2589.901935   \n",
      "min    10668.000000  15317.000000     930.872000      0.000000      0.000000   \n",
      "25%    12782.750000  19500.000000     937.379000      0.780000      0.820000   \n",
      "50%    12899.000000  20028.500000     938.705500      1.690000      1.760000   \n",
      "75%    13137.000000  20572.000000     939.618000      1.990000      2.070000   \n",
      "max    13799.000000  21410.000000     939.850000  14333.690000  45018.380000   \n",
      "\n",
      "              NC0.5         NC1.0         NC2.5         CNT   Fire Alarm  \n",
      "count   5000.000000   5000.000000   5000.000000   5000.0000  5000.000000  \n",
      "mean     991.735284    377.626581    141.053798   5460.9154     0.276800  \n",
      "std     6147.470276   2892.793063   1371.007222   6245.1457     0.447462  \n",
      "min        0.000000      0.000000      0.000000      0.0000     0.000000  \n",
      "25%        5.390000      0.845750      0.021000   1466.0000     0.000000  \n",
      "50%       11.610000      1.815000      0.042000   2983.0000     0.000000  \n",
      "75%       13.700000      2.142000      0.049000   5606.5000     1.000000  \n",
      "max    61482.030000  51413.852000  29590.688000  24961.0000     1.000000  \n"
     ]
    },
    {
     "data": {
      "image/png": "[encoded data removed]",
      "text/plain": [
       "<Figure size 640x480 with 1 Axes>"
      ]
     },
     "metadata": {},
     "output_type": "display_data"
    }
   ],
   "source": [
    "#bibliothèque nécessaire\n",
    "\n",
    "import pandas as pd\n",
    "import numpy as np\n",
    "import matplotlib.pyplot as plt\n",
    "import seaborn as sns\n",
    "\n",
    "#charger les données du dataset\n",
    "\n",
    "df = pd.read_csv('../data/raw/train_dataset.csv')\n",
    "\n",
    "#exploration des données\n",
    "\n",
    "print(df.head())\n",
    "print(df.info())\n",
    "print(df.describe())\n",
    "\n",
    "#visualisation des données \n",
    "\n",
    "sns.histplot(df['Temperature[C]'])\n",
    "plt.show()\n",
    "\n",
    "\n",
    "\n"
   ]
  }
 ],
 "metadata": {
  "kernelspec": {
   "display_name": "Python 3",
   "language": "python",
   "name": "python3"
  },
  "language_info": {
   "codemirror_mode": {
    "name": "ipython",
    "version": 3
   },
   "file_extension": ".py",
   "mimetype": "text/x-python",
   "name": "python",
   "nbconvert_exporter": "python",
   "pygments_lexer": "ipython3",
   "version": "3.12.6"
  }
 },
 "nbformat": 4,
 "nbformat_minor": 2
}
