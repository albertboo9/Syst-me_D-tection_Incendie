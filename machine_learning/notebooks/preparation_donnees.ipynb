{
 "cells": [
  {
   "cell_type": "code",
   "execution_count": 1,
   "metadata": {},
   "outputs": [
    {
     "name": "stderr",
     "output_type": "stream",
     "text": [
      "/usr/lib/python3/dist-packages/pytz/__init__.py:30: SyntaxWarning: invalid escape sequence '\\s'\n",
      "  match = re.match(\"^#\\s*version\\s*([0-9a-z]*)\\s*$\", line)\n",
      "/tmp/ipykernel_10588/2049244000.py:30: SettingWithCopyWarning: \n",
      "A value is trying to be set on a copy of a slice from a DataFrame.\n",
      "Try using .loc[row_indexer,col_indexer] = value instead\n",
      "\n",
      "See the caveats in the documentation: https://pandas.pydata.org/pandas-docs/stable/user_guide/indexing.html#returning-a-view-versus-a-copy\n",
      "  df_clean['UTC'] = pd.to_datetime(df['UTC'], unit='s' )\n"
     ]
    }
   ],
   "source": [
    "#bibliothèque nécessaire\n",
    "\n",
    "import pandas as pd\n",
    "import numpy as np\n",
    "import matplotlib.pyplot as plt\n",
    "import seaborn as sns\n",
    "\n",
    "# 1) CHARGEMENT DES DONNÉES\n",
    "\n",
    "df = pd.read_csv('../data/raw/train_dataset.csv')\n",
    "\n",
    "# 2) NETTOYAGE DES DONNÉES .\n",
    "\n",
    "    #-recherche de valeurs manquantes\n",
    "#print(df.isnull()) # on remarque qu'il y a pas de valeur manquante dans notre dataset.\n",
    "\n",
    "    #--passons à l'identification et la suppression des outliers ou données aberrantes\n",
    "        # Calcul de l'IQR\n",
    "Q1 = df['Temperature[C]'].quantile(0.25)\n",
    "Q3 = df['Temperature[C]'].quantile(0.75)\n",
    "IQR = Q3 - Q1\n",
    "\n",
    "        # Identification des outliers avec l'IQR\n",
    "outliers = df[(df['Temperature[C]'] < Q1 - 1.5 * IQR) | (df['Temperature[C]'] > Q3 + 1.5 * IQR)]\n",
    "\n",
    "        # Suppression des outliers\n",
    "df_clean = df[~df.index.isin(outliers.index)]\n",
    "\n",
    "# Convertir la colonne 'UTC' en datetime\n",
    "df_clean['UTC'] = pd.to_datetime(df['UTC'], unit='s' )\n",
    "\n",
    "\n",
    "\n",
    "# Enregistrer le DataFrame dans un fichier CSV\n",
    "df_clean.to_csv(\"../data/processed/clean_data.csv\", index=False)\n"
   ]
  }
 ],
 "metadata": {
  "kernelspec": {
   "display_name": "Python 3",
   "language": "python",
   "name": "python3"
  },
  "language_info": {
   "codemirror_mode": {
    "name": "ipython",
    "version": 3
   },
   "file_extension": ".py",
   "mimetype": "text/x-python",
   "name": "python",
   "nbconvert_exporter": "python",
   "pygments_lexer": "ipython3",
   "version": "3.12.6"
  }
 },
 "nbformat": 4,
 "nbformat_minor": 2
}
