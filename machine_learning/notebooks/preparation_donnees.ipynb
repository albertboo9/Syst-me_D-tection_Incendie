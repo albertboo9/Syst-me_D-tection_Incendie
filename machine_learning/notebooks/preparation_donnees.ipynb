{
 "cells": [
  {
   "cell_type": "code",
   "execution_count": 2,
   "metadata": {},
   "outputs": [
    {
     "name": "stderr",
     "output_type": "stream",
     "text": [
      "/usr/lib/python3/dist-packages/pytz/__init__.py:30: SyntaxWarning: invalid escape sequence '\\s'\n",
      "  match = re.match(\"^#\\s*version\\s*([0-9a-z]*)\\s*$\", line)\n",
      "/tmp/ipykernel_15140/341347939.py:27: SettingWithCopyWarning: \n",
      "A value is trying to be set on a copy of a slice from a DataFrame.\n",
      "Try using .loc[row_indexer,col_indexer] = value instead\n",
      "\n",
      "See the caveats in the documentation: https://pandas.pydata.org/pandas-docs/stable/user_guide/indexing.html#returning-a-view-versus-a-copy\n",
      "  df_clean['UTC'] = pd.to_datetime(df['UTC'], unit='s' )\n"
     ]
    }
   ],
   "source": [
    "#bibliothèque nécessaire\n",
    "import pandas as pd\n",
    "\n",
    "\n",
    "# 1) CHARGEMENT DES DONNÉES\n",
    "\n",
    "df = pd.read_csv('../data/raw/train_dataset.csv')\n",
    "\n",
    "# 2) NETTOYAGE DES DONNÉES .\n",
    "\n",
    "    #-recherche de valeurs manquantes\n",
    "#print(df.isnull()) # on remarque qu'il y a pas de valeur manquante dans notre dataset.\n",
    "\n",
    "    #--passons à l'identification et la suppression des outliers ou données aberrantes\n",
    "        # Calcul de l'IQR\n",
    "Q1 = df['Temperature[C]'].quantile(0.25)\n",
    "Q3 = df['Temperature[C]'].quantile(0.75)\n",
    "IQR = Q3 - Q1\n",
    "\n",
    "        # Identification des outliers avec l'IQR\n",
    "outliers = df[(df['Temperature[C]'] < Q1 - 1.5 * IQR) | (df['Temperature[C]'] > Q3 + 1.5 * IQR)]\n",
    "\n",
    "        # Suppression des outliers\n",
    "df_clean = df[~df.index.isin(outliers.index)]\n",
    "\n",
    "# Convertir la colonne 'UTC' en datetime\n",
    "df_clean['UTC'] = pd.to_datetime(df['UTC'], unit='s' )\n",
    "\n",
    "\n",
    "\n",
    "# Enregistrer le DataFrame dans un fichier CSV\n",
    "df_clean.to_csv(\"../data/processed/clean_data.csv\", index=False)\n"
   ]
  },
  {
   "cell_type": "code",
   "execution_count": 3,
   "metadata": {},
   "outputs": [
    {
     "name": "stdout",
     "output_type": "stream",
     "text": [
      "Imported v0.1.905. Please call AutoViz in this sequence:\n",
      "    AV = AutoViz_Class()\n",
      "    %matplotlib inline\n",
      "    dfte = AV.AutoViz(filename, sep=',', depVar='', dfte=None, header=0, verbose=1, lowess=False,\n",
      "               chart_format='svg',max_rows_analyzed=150000,max_cols_analyzed=30, save_plot_dir=None)\n",
      "\n",
      "\n",
      " -------------------------------------- après le nettoyage --------------------------------- \n",
      " \n",
      " \n"
     ]
    }
   ],
   "source": [
    "\n",
    "\n",
    "# Charger les données en dataF²rame\n",
    "data = pd.read_csv(\"../data/raw/smoke_detection_iot.csv\")\n",
    "\n",
    "# Fonction pour détecter et supprimer les outliers en utilisant la méthode des boîtes à moustaches\n",
    "def remove_outliers(df, column):\n",
    "    Q1 = df[column].quantile(0.25)\n",
    "    Q3 = df[column].quantile(0.75)\n",
    "    IQR = Q3 - Q1\n",
    "    lower_bound = Q1 - 1.5 * IQR\n",
    "    upper_bound = Q3 + 1.5 * IQR\n",
    "    df = df[(df[column] >= lower_bound) & (df[column] <= upper_bound)]\n",
    "    return df\n",
    "\n",
    "from autoviz.AutoViz_Class  import AutoViz_Class\n",
    "\n",
    "#AV = AutoViz_Class()\n",
    "#AV.AutoViz(filename='',dfte=data,depVar='Fire Alarm',verbose=1,max_rows_analyzed=data.shape[0]\n",
    "  #             ,max_cols_analyzed=data.shape[1])\n",
    "\n",
    "# Liste des colonnes numériques\n",
    "numerical_cols = ['Temperature[C]','Humidity[%]','TVOC[ppb]','eCO2[ppm]','Raw H2','Raw Ethanol','Pressure[hPa]','PM1.0','PM2.5','NC0.5','NC1.0','NC2.5']\n",
    "\n",
    "# Supprimer les outliers pour chaque colonne numérique\n",
    "for col in numerical_cols:\n",
    "    data = remove_outliers(data, col)\n",
    "\n",
    "data['UTC'] = pd.to_datetime(data['UTC'], unit='s')\n",
    "\n",
    "# Sauvegarder le dataset nettoyé\n",
    "data.to_csv(\"../data/processed/clean_dataset_.csv\", index=False)\n",
    "\n",
    "\n",
    "\n",
    "\n",
    "print(\"\\n\\n -------------------------------------- après le nettoyage --------------------------------- \\n \\n \")\n",
    "\n",
    "#AV.AutoViz(filename='',dfte=data,depVar='Fire Alarm',verbose=1,max_rows_analyzed=data.shape[0]\n",
    "  #             ,max_cols_analyzed=data.shape[1])"
   ]
  }
 ],
 "metadata": {
  "kernelspec": {
   "display_name": "Python 3",
   "language": "python",
   "name": "python3"
  },
  "language_info": {
   "codemirror_mode": {
    "name": "ipython",
    "version": 3
   },
   "file_extension": ".py",
   "mimetype": "text/x-python",
   "name": "python",
   "nbconvert_exporter": "python",
   "pygments_lexer": "ipython3",
   "version": "3.12.6"
  }
 },
 "nbformat": 4,
 "nbformat_minor": 2
}
