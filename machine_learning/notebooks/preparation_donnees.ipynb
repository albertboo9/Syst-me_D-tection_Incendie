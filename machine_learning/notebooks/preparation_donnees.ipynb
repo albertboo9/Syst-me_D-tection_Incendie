{
 "cells": [
  {
   "cell_type": "code",
   "execution_count": 2,
   "metadata": {},
   "outputs": [],
   "source": [
    "#bibliothèque nécessaire\n",
    "\n",
    "import pandas as pd\n",
    "import numpy as np\n",
    "import matplotlib.pyplot as plt\n",
    "import seaborn as sns\n",
    "\n",
    "# 1) CHARGEMENT DES DONNÉES\n",
    "\n",
    "df = pd.read_csv('../data/raw/train_dataset.csv')\n",
    "\n",
    "# 2) NETTOYAGE DES DONNÉES .\n",
    "\n",
    "    #-recherche de valeurs manquantes\n",
    "#print(df.isnull()) # on remarque qu'il y a pas de valeur manquante dans notre dataset.\n",
    "\n",
    "    #--passons à l'identification et la suppression des outliers ou données aberrantes\n",
    "        # Calcul de l'IQR\n",
    "Q1 = df['Temperature[C]'].quantile(0.25)\n",
    "Q3 = df['Temperature[C]'].quantile(0.75)\n",
    "IQR = Q3 - Q1\n",
    "\n",
    "        # Identification des outliers avec l'IQR\n",
    "outliers = df[(df['Temperature[C]'] < Q1 - 1.5 * IQR) | (df['Temperature[C]'] > Q3 + 1.5 * IQR)]\n",
    "\n",
    "        # Suppression des outliers\n",
    "df_clean = df[~df.index.isin(outliers.index)]\n",
    "\n",
    "# Convertir la colonne 'UTC' en datetime\n",
    "df['UTC'] = pd.to_datetime(df['UTC'])\n",
    "\n",
    "# Formater la colonne 'UTC' dans le format souhaité\n",
    "df['UTC'] = df['UTC'].dt.strftime('%Y-%m-%d %H:%M:%S')\n",
    "\n",
    "# Enregistrer le DataFrame dans un fichier CSV\n",
    "df_clean.to_csv(\"../data/processed/clean_dataset.csv\", index=False)\n"
   ]
  }
 ],
 "metadata": {
  "kernelspec": {
   "display_name": "Python 3",
   "language": "python",
   "name": "python3"
  },
  "language_info": {
   "codemirror_mode": {
    "name": "ipython",
    "version": 3
   },
   "file_extension": ".py",
   "mimetype": "text/x-python",
   "name": "python",
   "nbconvert_exporter": "python",
   "pygments_lexer": "ipython3",
   "version": "3.12.6"
  }
 },
 "nbformat": 4,
 "nbformat_minor": 2
}
